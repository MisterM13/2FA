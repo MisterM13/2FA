{
 "cells": [
  {
   "cell_type": "markdown",
   "metadata": {},
   "source": [
    "# DIY 2FA QR Generator\n",
    "## Make your own 2FA password and QR to scan it with your favourite 2FA-App.\n",
    "### It really works!"
   ]
  },
  {
   "cell_type": "code",
   "execution_count": 54,
   "metadata": {},
   "outputs": [],
   "source": [
    "import qrcode\n",
    "from PIL import Image"
   ]
  },
  {
   "cell_type": "code",
   "execution_count": 57,
   "metadata": {},
   "outputs": [],
   "source": [
    "secret = \"Hello World!\"        # the secret to use, must be an even number of letters\n",
    "timeperiod = 60                #living time of the code\n",
    "issuer = \"helloWorld.com\"      #Site or issuer name or Title\n",
    "digits = 6                     #number of digits used, either 6 or 8 works\n",
    "algorithm = \"SHA512\"           #Algorithm used, SHA1,SHA256,SHA512 tested to work\n",
    "data = \"otpauth://totp/MrM_Security?secret=\"+secret+\"&issuer=\"+issuer+\"&period=\"+str(timeperiod)+\"&algorithm=\"+algorithm+\"&digits=\"+str(digits)"
   ]
  },
  {
   "cell_type": "code",
   "execution_count": 58,
   "metadata": {},
   "outputs": [
    {
     "data": {
      "image/png": "[encoded data removed]",
      "text/plain": [
       "<qrcode.image.pil.PilImage at 0x10e103880>"
      ]
     },
     "metadata": {},
     "output_type": "display_data"
    }
   ],
   "source": [
    "img = qrcode.make(data)\n",
    "display(img)"
   ]
  },
  {
   "cell_type": "code",
   "execution_count": null,
   "metadata": {},
   "outputs": [],
   "source": []
  }
 ],
 "metadata": {
  "kernelspec": {
   "display_name": "Python 3",
   "language": "python",
   "name": "python3"
  },
  "language_info": {
   "codemirror_mode": {
    "name": "ipython",
    "version": 3
   },
   "file_extension": ".py",
   "mimetype": "text/x-python",
   "name": "python",
   "nbconvert_exporter": "python",
   "pygments_lexer": "ipython3",
   "version": "3.8.8"
  }
 },
 "nbformat": 4,
 "nbformat_minor": 4
}
