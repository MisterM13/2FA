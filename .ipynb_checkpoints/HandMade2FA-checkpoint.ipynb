{
 "cells": [
  {
   "cell_type": "code",
   "execution_count": 1,
   "metadata": {},
   "outputs": [],
   "source": [
    "import time\n",
    "import hashlib\n",
    "import random"
   ]
  },
  {
   "cell_type": "code",
   "execution_count": 107,
   "metadata": {},
   "outputs": [],
   "source": [
    "limit = 30 #limit how long the token is valid\n",
    "secret= \"helloWorld\"\n",
    "cHash = hashlib.sha1(bytes(secret,'utf-8')).hexdigest()"
   ]
  },
  {
   "cell_type": "code",
   "execution_count": 78,
   "metadata": {},
   "outputs": [],
   "source": [
    "def getThash(limit):\n",
    "    timeInt = round(time.time())-round(time.time())%limit\n",
    "    tHash = hashlib.sha1(bytes(str(int(timeInt)),'utf-8')).hexdigest()\n",
    "    return tHash"
   ]
  },
  {
   "cell_type": "code",
   "execution_count": 79,
   "metadata": {},
   "outputs": [],
   "source": [
    "def getToken():\n",
    "    global limit\n",
    "    tHash = getThash(limit)\n",
    "    x = [0]*9\n",
    "    y = [0]*40\n",
    "    num = \"\"\n",
    "    for i in range(0,len(tHash),1):\n",
    "        a = int(tHash[i],base=16)\n",
    "        b = int(cHash[i],base=16)\n",
    "        y[i] = a+b\n",
    "    #print(len(y),y)\n",
    "    k = 0\n",
    "    for j in range(0,36,5):\n",
    "        x[k] = (y[j]**y[j+1]-y[j+2]+y[j+3]*y[j+4])%9\n",
    "        #print(k,x[k],j)\n",
    "        k+=1\n",
    "    x[8] = (x[0]**x[1]-x[2]+x[3]*x[4]-x[5]*x[6]+x[7])%9   \n",
    "    for i in range(0,9,1):\n",
    "        num += str(x[i])\n",
    "        if((i+1)%3==0):\n",
    "            num += \" \"\n",
    "    return num"
   ]
  },
  {
   "cell_type": "code",
   "execution_count": 94,
   "metadata": {},
   "outputs": [],
   "source": [
    "def proofToken():\n",
    "    ptoken =  getToken().replace(\" \",\"\")\n",
    "    token = input(\"insert your token:\\n\").replace(\" \",\"\")\n",
    "    if(ptoken == token):\n",
    "        print(\"Authentification successfull\")\n",
    "    else:\n",
    "        print(\"Authentification failed\")"
   ]
  },
  {
   "cell_type": "code",
   "execution_count": 112,
   "metadata": {},
   "outputs": [
    {
     "name": "stdout",
     "output_type": "stream",
     "text": [
      "853 601 183 \n"
     ]
    }
   ],
   "source": [
    "print(getToken())"
   ]
  },
  {
   "cell_type": "code",
   "execution_count": 109,
   "metadata": {},
   "outputs": [
    {
     "name": "stdout",
     "output_type": "stream",
     "text": [
      "insert your token:\n",
      "705431571\n",
      "Authentification successfull\n"
     ]
    }
   ],
   "source": [
    "proofToken()"
   ]
  }
 ],
 "metadata": {
  "kernelspec": {
   "display_name": "Python 3",
   "language": "python",
   "name": "python3"
  },
  "language_info": {
   "codemirror_mode": {
    "name": "ipython",
    "version": 3
   },
   "file_extension": ".py",
   "mimetype": "text/x-python",
   "name": "python",
   "nbconvert_exporter": "python",
   "pygments_lexer": "ipython3",
   "version": "3.8.8"
  }
 },
 "nbformat": 4,
 "nbformat_minor": 4
}
